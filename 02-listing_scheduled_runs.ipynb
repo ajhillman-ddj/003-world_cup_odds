{
 "cells": [
  {
   "cell_type": "code",
   "execution_count": 16,
   "id": "3d34cbb1-234e-4063-a8d8-688ad3085d4b",
   "metadata": {},
   "outputs": [],
   "source": [
    "import pandas\n",
    "from datetime import date, timedelta"
   ]
  },
  {
   "cell_type": "code",
   "execution_count": 65,
   "id": "e44a7c7e-43cc-4df7-a45d-f92af2a3349f",
   "metadata": {},
   "outputs": [],
   "source": [
    "scheduled_times_array = []\n",
    "\n",
    "start_date = date(2022, 11, 19) \n",
    "end_date = date(2022, 12, 21) \n",
    "\n",
    "delta = end_date - start_date\n",
    "\n",
    "for i in range(delta.days + 1):\n",
    "    \n",
    "    day = start_date + timedelta(days=i)\n",
    "    #scheduled_times_array.append(\"\".join([\"- cron: 00 08 \", str(day.day), \" \", str(day.month), \" *\"]))"
   ]
  },
  {
   "cell_type": "code",
   "execution_count": 66,
   "id": "5b3aa734-063e-45f3-8aea-c57198b36950",
   "metadata": {},
   "outputs": [],
   "source": [
    "fixturesData = pandas.read_csv(\"fixtures_dates_times_test_data.csv\")\n",
    "\n",
    "fixturesData.drop_duplicates(subset=['DateFormatted', 'StartTime (UTC)'], keep='first', inplace=True)"
   ]
  },
  {
   "cell_type": "code",
   "execution_count": 67,
   "id": "5d1efecb-9884-46f3-b35a-c500f74a3490",
   "metadata": {},
   "outputs": [],
   "source": [
    "for index, row in fixturesData.iterrows():\n",
    "    \n",
    "    hour = str((int(row[\"StartTime (UTC)\"][:row[\"StartTime (UTC)\"].find(\":\")])-1)).zfill(2)\n",
    "    day = row[\"DateFormatted\"][:2]\n",
    "    month = row[\"DateFormatted\"][row[\"DateFormatted\"].find(\"/\")+1: row[\"DateFormatted\"].find(\"/\")+3]\n",
    "    \n",
    "    scheduled_times_array.append(\"\".join([\"- cron: '54 \", hour, \" \", day, \" \", month, \" *'\"]))\n",
    "    scheduled_times_array.append(\"\".join([\"- cron: '59 \", hour, \" \", day, \" \", month, \" *'\"]))\n",
    "    \n",
    "    hourPlusRange = range(0,2) if row[\"Stage\"] == \"Group\" else range(0,3)\n",
    "    \n",
    "    for hourPlus in hourPlusRange:\n",
    "    \n",
    "        for numb in range(1,13):\n",
    "            \n",
    "            hour = str((int(row[\"StartTime (UTC)\"][:row[\"StartTime (UTC)\"].find(\":\")])+hourPlus)).zfill(2)\n",
    "            minute = str(numb*5-1).zfill(2)\n",
    "            \n",
    "            if hour == \"24\":\n",
    "                \n",
    "                print(\"yes\")\n",
    "                \n",
    "            else:\n",
    "                \n",
    "                scheduled_times_array.append(\"\".join([\"- cron: '\", minute, \" \", hour, \" \", day, \" \", month, \" *'\"]))"
   ]
  },
  {
   "cell_type": "code",
   "execution_count": 68,
   "id": "648feba1-6876-4cd5-a407-187b7d8ff80a",
   "metadata": {},
   "outputs": [
    {
     "name": "stdout",
     "output_type": "stream",
     "text": [
      "- cron: '54 18 18 11 *'\n",
      "- cron: '59 18 18 11 *'\n",
      "- cron: '04 19 18 11 *'\n",
      "- cron: '09 19 18 11 *'\n",
      "- cron: '14 19 18 11 *'\n",
      "- cron: '19 19 18 11 *'\n",
      "- cron: '24 19 18 11 *'\n",
      "- cron: '29 19 18 11 *'\n",
      "- cron: '34 19 18 11 *'\n",
      "- cron: '39 19 18 11 *'\n",
      "- cron: '44 19 18 11 *'\n",
      "- cron: '49 19 18 11 *'\n",
      "- cron: '54 19 18 11 *'\n",
      "- cron: '59 19 18 11 *'\n",
      "- cron: '04 20 18 11 *'\n",
      "- cron: '09 20 18 11 *'\n",
      "- cron: '14 20 18 11 *'\n",
      "- cron: '19 20 18 11 *'\n",
      "- cron: '24 20 18 11 *'\n",
      "- cron: '29 20 18 11 *'\n",
      "- cron: '34 20 18 11 *'\n",
      "- cron: '39 20 18 11 *'\n",
      "- cron: '44 20 18 11 *'\n",
      "- cron: '49 20 18 11 *'\n",
      "- cron: '54 20 18 11 *'\n",
      "- cron: '59 20 18 11 *'\n",
      "- cron: '54 15 18 11 *'\n",
      "- cron: '59 15 18 11 *'\n",
      "- cron: '04 16 18 11 *'\n",
      "- cron: '09 16 18 11 *'\n",
      "- cron: '14 16 18 11 *'\n",
      "- cron: '19 16 18 11 *'\n",
      "- cron: '24 16 18 11 *'\n",
      "- cron: '29 16 18 11 *'\n",
      "- cron: '34 16 18 11 *'\n",
      "- cron: '39 16 18 11 *'\n",
      "- cron: '44 16 18 11 *'\n",
      "- cron: '49 16 18 11 *'\n",
      "- cron: '54 16 18 11 *'\n",
      "- cron: '59 16 18 11 *'\n",
      "- cron: '04 17 18 11 *'\n",
      "- cron: '09 17 18 11 *'\n",
      "- cron: '14 17 18 11 *'\n",
      "- cron: '19 17 18 11 *'\n",
      "- cron: '24 17 18 11 *'\n",
      "- cron: '29 17 18 11 *'\n",
      "- cron: '34 17 18 11 *'\n",
      "- cron: '39 17 18 11 *'\n",
      "- cron: '44 17 18 11 *'\n",
      "- cron: '49 17 18 11 *'\n",
      "- cron: '54 17 18 11 *'\n",
      "- cron: '59 17 18 11 *'\n"
     ]
    }
   ],
   "source": [
    "for scheduled_run in scheduled_times_array:\n",
    "    \n",
    "    print(scheduled_run)"
   ]
  },
  {
   "cell_type": "code",
   "execution_count": null,
   "id": "0a1523bf-78f3-4468-89e3-0b635622fbec",
   "metadata": {},
   "outputs": [],
   "source": []
  }
 ],
 "metadata": {
  "kernelspec": {
   "display_name": "Python 3 (ipykernel)",
   "language": "python",
   "name": "python3"
  },
  "language_info": {
   "codemirror_mode": {
    "name": "ipython",
    "version": 3
   },
   "file_extension": ".py",
   "mimetype": "text/x-python",
   "name": "python",
   "nbconvert_exporter": "python",
   "pygments_lexer": "ipython3",
   "version": "3.11.0"
  }
 },
 "nbformat": 4,
 "nbformat_minor": 5
}
