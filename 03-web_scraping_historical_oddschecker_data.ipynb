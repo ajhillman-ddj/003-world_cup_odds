{
 "cells": [
  {
   "cell_type": "markdown",
   "id": "a575d85c-8e91-44b3-9dfa-2542a2aa87e3",
   "metadata": {},
   "source": [
    "# Web scraping the historical copies of the Oddshecker's outright World Cup winner page using Archive.org\n",
    "\n",
    "This code loops through four pre-tournament dates where the Oddschecker outright World Cup winner page was archived, grabs the odds data from the page and outputs it in the same way as the scheduled runs conducted during the tournament."
   ]
  },
  {
   "cell_type": "code",
   "execution_count": 1,
   "id": "90072f8f-bc62-41f6-b0cd-1cc665c24375",
   "metadata": {},
   "outputs": [],
   "source": [
    "from bs4 import BeautifulSoup\n",
    "import numpy\n",
    "import pandas\n",
    "from datetime import datetime\n",
    "\n",
    "from selenium import webdriver\n",
    "from selenium.webdriver.chrome.service import Service\n",
    "from selenium.webdriver.chrome.options import Options\n",
    "from selenium.webdriver import ActionChains\n",
    "from selenium.webdriver.support.ui import WebDriverWait"
   ]
  },
  {
   "cell_type": "code",
   "execution_count": 61,
   "id": "05b15a14-b0e9-43f5-a081-ec0b8efaa7c7",
   "metadata": {},
   "outputs": [],
   "source": [
    "chrome_options = Options()\n",
    "user_agent = 'Mozilla/5.0 (X11; Linux x86_64) AppleWebKit/537.36 (KHTML, like Gecko) Chrome/33.0.1750.517 Safari/537.36'\n",
    "chrome_options.add_argument('user-agent={0}'.format(user_agent))\n",
    "chrome_options.add_argument('--headless')\n",
    "\n",
    "driver = webdriver.Chrome(service=Service('/usr/local/bin/chromedriver.exe'),options=chrome_options)\n",
    "\n",
    "wait = WebDriverWait(driver, 20)\n",
    "action = ActionChains(driver)"
   ]
  },
  {
   "cell_type": "code",
   "execution_count": 63,
   "id": "9b9c0b26-b8bf-4698-9b3a-5fb0f3acf06c",
   "metadata": {},
   "outputs": [],
   "source": [
    "webpageArray = [\n",
    "{\"url\": \"https://web.archive.org/web/20220714091113/https://www.oddschecker.com/football/world-cup/winner\", \"dateTime\": \"14/07/2022  09:11:13\"},     \n",
    "{\"url\": \"https://web.archive.org/web/20220916165807/https://www.oddschecker.com/football/world-cup/winner\", \"dateTime\": \"16/09/2022  16:58:07\"},  \n",
    "{\"url\": \"https://web.archive.org/web/20221112001610/https://www.oddschecker.com/football/world-cup/winner\", \"dateTime\": \"12/11/2022  00:16:10\"},\n",
    "{\"url\": \"https://web.archive.org/web/20221118194846/https://www.oddschecker.com/football/world-cup/winner\", \"dateTime\": \"18/11/2022  19:48:46\"},\n",
    "]\n",
    "\n",
    "listOfCountries = ['Brazil', 'Argentina', 'France', 'Spain', 'England', 'Germany', 'Netherlands', 'Portugal', 'Belgium', 'Denmark', 'Uruguay', 'Croatia', 'Serbia', 'Switzerland', 'Senegal', 'Mexico', 'USA', 'Poland', 'Ecuador', 'Wales', 'Morocco', 'Japan', 'Ghana', 'Canada', 'Cameroon', 'Iran', 'South Korea', 'Australia', 'Qatar', 'Tunisia', 'Saudi Arabia', 'Costa Rica']"
   ]
  },
  {
   "cell_type": "code",
   "execution_count": 65,
   "id": "a0ffce2f-5c52-4649-b455-b7bb60c4289f",
   "metadata": {
    "tags": []
   },
   "outputs": [
    {
     "name": "stderr",
     "output_type": "stream",
     "text": [
      "/var/folders/r6/kwlhjz015ln8pxr6tcqxzmk80000gp/T/ipykernel_8062/775482804.py:32: RuntimeWarning: invalid value encountered in double_scalars\n",
      "  obj[\"prob\"] = obj[\"prob\"]/totalProb\n"
     ]
    }
   ],
   "source": [
    "for obj in webpageArray:\n",
    "\n",
    "    driver.get(obj[\"url\"])\n",
    "    soup = BeautifulSoup(driver.page_source)\n",
    "\n",
    "\n",
    "    oddsData = []\n",
    "    totalProb = 0\n",
    "\n",
    "    for country in listOfCountries:\n",
    "\n",
    "        countryData = soup.find( class_ = \"diff-row evTabRow bc\", attrs={\"data-bname\" : country} )\n",
    "\n",
    "        if countryData is None:\n",
    "\n",
    "            oddsArray = [0]\n",
    "\n",
    "        else:\n",
    "\n",
    "            oddsArray = countryData.findChildren(\"td\", class_ = \"bc\", recursive=False)\n",
    "\n",
    "            for i in range(len(oddsArray)):\n",
    "                oddsArray[i] = 1/(float(oddsArray[i][\"data-odig\"]))\n",
    "\n",
    "        oddsMean = numpy.mean(oddsArray)\n",
    "        totalProb += oddsMean\n",
    "\n",
    "        oddsData.append({\"country\": country, \"prob\": oddsMean, \"currDateTime\": obj[\"dateTime\"]})\n",
    "\n",
    "    for obj in oddsData:\n",
    "\n",
    "        obj[\"prob\"] = obj[\"prob\"]/totalProb\n",
    "        \n",
    "    pandas.DataFrame(oddsData).to_csv(\"historicalOutputs.csv\", sep=',', encoding='utf-8', index=False, mode='a', header=False)"
   ]
  }
 ],
 "metadata": {
  "kernelspec": {
   "display_name": "Python 3 (ipykernel)",
   "language": "python",
   "name": "python3"
  },
  "language_info": {
   "codemirror_mode": {
    "name": "ipython",
    "version": 3
   },
   "file_extension": ".py",
   "mimetype": "text/x-python",
   "name": "python",
   "nbconvert_exporter": "python",
   "pygments_lexer": "ipython3",
   "version": "3.11.0"
  },
  "vscode": {
   "interpreter": {
    "hash": "aee8b7b246df8f9039afb4144a1f6fd8d2ca17a180786b69acc140d282b71a49"
   }
  }
 },
 "nbformat": 4,
 "nbformat_minor": 5
}
